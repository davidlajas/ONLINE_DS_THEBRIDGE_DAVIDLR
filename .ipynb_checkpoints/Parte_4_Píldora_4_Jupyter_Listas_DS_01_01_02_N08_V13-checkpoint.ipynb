{
 "cells": [
  {
   "cell_type": "markdown",
   "metadata": {
    "id": "JcZj735VEIlL"
   },
   "source": [
    "<img src = \"./img/TheBridge_logo_RGB_color.jpg\" width = 500><img src = \"./img/python.jpg\" width = 500>"
   ]
  },
  {
   "cell_type": "markdown",
   "metadata": {
    "id": "wGvI5DLIEIlP"
   },
   "source": [
    "# Python Basics I"
   ]
  },
  {
   "cell_type": "markdown",
   "metadata": {
    "id": "ubEjRH7pEIlP"
   },
   "source": [
    "## Contenidos"
   ]
  },
  {
   "cell_type": "markdown",
   "metadata": {
    "id": "riSzytLdEIlQ"
   },
   "source": [
    "* [Listas\n",
    "](#Listas\n",
    ")\n"
   ]
  },
  {
   "cell_type": "markdown",
   "metadata": {
    "id": "KDEPx-kGEIlQ"
   },
   "source": [
    "## Listas\n",
    "[al indice](#Contenidos)  \n",
    "Se trata de otro de los tipos de datos de Python más usados. Dentro de las colecciones, que veremos más adelante, la lista es la colección que normalmente se le da más uso. **Nos permiten almacenar conjuntos de variables u objetos**, y son elementos de lo más versátiles puesto que podemos almacenar objetos de distintos tipos, modificarlos, eliminarlos, meter listas dentro de listas... Sus dos caractrísticas principales son:\n",
    "* **Mutables**: una vez se ha creado la lista, se puede modificar\n",
    "* **Ordenada**: Los elementos tienen un cierto orden, lo que nos permite acceder al elemento que queramos teniendo en cuenta tal orden\n",
    "\n",
    "En cuanto a su sintaxis, cuando declaremos la lista simplemente hay que separar cada elemento con comas, y rodearlo todo con corchetes."
   ]
  },
  {
   "cell_type": "code",
   "execution_count": 2,
   "metadata": {
    "id": "zOPQy8M3EIlR"
   },
   "outputs": [
    {
     "name": "stdout",
     "output_type": "stream",
     "text": [
      "[1, 3, 5, 6]\n",
      "<class 'list'>\n"
     ]
    }
   ],
   "source": [
    "#lista de números\n",
    "numeros = [1,3,5,6]\n",
    "print(numeros)\n",
    "print(type(numeros))"
   ]
  },
  {
   "cell_type": "code",
   "execution_count": 7,
   "metadata": {
    "id": "yd8E-3G9EIlR"
   },
   "outputs": [
    {
     "name": "stdout",
     "output_type": "stream",
     "text": [
      "['Esto', 'es', 'una', 'lista']\n",
      "[True, False, True, True, False]\n"
     ]
    }
   ],
   "source": [
    "#lista de strings\n",
    "strings = [\"Esto\", \"es\", \"una\", \"lista\"]\n",
    "print(strings)\n",
    "\n",
    "#lista de booleanos\n",
    "booleanos = [True,False, not False, True or False, False and False]\n",
    "print(booleanos)"
   ]
  },
  {
   "cell_type": "markdown",
   "metadata": {
    "id": "fh6Fk8MBEIlR"
   },
   "source": [
    "**NOTA**: ¿Ves por qué los decimales en Python siempre van con puntos y no con comas? Con las colecciones el intérprete de Python se volvería loco.\n",
    "\n",
    "Podemos ver tambien el tipo de la lista"
   ]
  },
  {
   "cell_type": "code",
   "execution_count": 10,
   "metadata": {},
   "outputs": [
    {
     "name": "stdout",
     "output_type": "stream",
     "text": [
      "['Esto es', 12, -34.5, True, False, 'lista']\n",
      "<class 'list'>\n",
      "[['Esto es', 12, -34.5, True, False, 'lista'], 'otra lista']\n"
     ]
    }
   ],
   "source": [
    "#lista de tipos mezclados\n",
    "\n",
    "mix = [\"Esto es\", 12, -34.5,True, False,\"lista\"]\n",
    "print(mix)\n",
    "print(type(mix))\n",
    "\n",
    "#lista dentro de lista\n",
    "listas = [mix, \"otra lista\"]\n",
    "print(listas)"
   ]
  },
  {
   "cell_type": "markdown",
   "metadata": {
    "id": "-vvDeYDiEIlS"
   },
   "source": [
    "Calcular la longitud de la misma mediante el método *built-in* ya visto: `len()`"
   ]
  },
  {
   "cell_type": "code",
   "execution_count": 18,
   "metadata": {},
   "outputs": [
    {
     "name": "stdout",
     "output_type": "stream",
     "text": [
      "2\n",
      "6\n"
     ]
    }
   ],
   "source": [
    "print(len(listas))\n",
    "\n",
    "print(len(mix))"
   ]
  },
  {
   "cell_type": "code",
   "execution_count": 19,
   "metadata": {
    "id": "dHbMkIRyEIlS"
   },
   "outputs": [
    {
     "name": "stdout",
     "output_type": "stream",
     "text": [
      "['Esto es', 12, -34.5, True, False, 'lista', ['Esto es', 12, -34.5, True, False, 'lista'], 'otra lista']\n"
     ]
    }
   ],
   "source": [
    "concatenacion = mix + listas\n",
    "print(concatenacion)"
   ]
  },
  {
   "cell_type": "markdown",
   "metadata": {
    "id": "-HA9brEHEIlS"
   },
   "source": [
    "Accedemos a los elemenos de la lista mediante corchetes `[]`\n",
    "\n",
    "**Importante**. El primer elemento es el 0"
   ]
  },
  {
   "cell_type": "code",
   "execution_count": 27,
   "metadata": {
    "id": "MzqUu7ExEIlS"
   },
   "outputs": [
    {
     "name": "stdout",
     "output_type": "stream",
     "text": [
      "eso\n",
      "añadido\n",
      "6\n",
      "6\n"
     ]
    }
   ],
   "source": [
    "lista_ejemplo = [\"eso\", 2,4,9,6,\"patata\",\"añadido\"]\n",
    "print(lista_ejemplo[0])\n",
    "print(lista_ejemplo[-1])\n",
    "print(lista_ejemplo[-3])\n",
    "print(lista_ejemplo[4])"
   ]
  },
  {
   "cell_type": "markdown",
   "metadata": {
    "id": "y-4AP4kTEIlS"
   },
   "source": [
    "### Metodos en Listas\n",
    "Para el tipo de objeto lista, también hay una serie de métodos catacterísticos que nos permiten operar con ellas: añadir valores, quitarlos, indexado, filtrado, etc... En [este enlace](https://www.w3schools.com/python/python_ref_list.asp) puedes encontrar todos los métodos que podrás usar con listas."
   ]
  },
  {
   "cell_type": "code",
   "execution_count": 50,
   "metadata": {
    "id": "xoLMf7OcEIlT"
   },
   "outputs": [
    {
     "name": "stdout",
     "output_type": "stream",
     "text": [
      "['fisca', 'quimica', 'mates', 'lengua', 'Filosofia']\n",
      "['fisca', 'Educacion fisica', 'quimica', 'mates', 'lengua', 'Filosofia']\n"
     ]
    }
   ],
   "source": [
    "asignaturas = [\"fisca\", \"quimica\", \"mates\", \"lengua\"]\n",
    "\n",
    "#añadir un elemnto a una lista\n",
    "asignaturas.append(\"Filosofia\")\n",
    "print(asignaturas)\n",
    "\n",
    "#añadir elemento en una posición determinada\n",
    "\n",
    "asignaturas.insert(1,\"Educacion fisica\")\n",
    "print(asignaturas)\n",
    "\n"
   ]
  },
  {
   "cell_type": "code",
   "execution_count": 55,
   "metadata": {
    "id": "ZmDJmZU1EIlT"
   },
   "outputs": [
    {
     "name": "stdout",
     "output_type": "stream",
     "text": [
      "['fisca', 'lengua']\n",
      "['fisca', 'lengua']\n"
     ]
    }
   ],
   "source": [
    "#quitar elementos\n",
    "#asignaturas.clear()\n",
    "#print(asignaturas)\n",
    "\n",
    "#Quitar asignatura a partir de su posición\n",
    "\n",
    "#asignaturas.pop(1)\n",
    "#print(asignaturas)\n",
    "\n",
    "#Quitar asignatura a partir de su  valor\n",
    "\n",
    "#asignaturas.remove(\"Filosofia\")\n",
    "print(asignaturas)\n",
    "\n",
    "#ordenar lista\n",
    "asignaturas.sort()\n",
    "print(asignaturas)"
   ]
  },
  {
   "cell_type": "code",
   "execution_count": null,
   "metadata": {
    "id": "rlbL-xeIEIlT"
   },
   "outputs": [],
   "source": []
  },
  {
   "cell_type": "code",
   "execution_count": null,
   "metadata": {},
   "outputs": [],
   "source": []
  },
  {
   "cell_type": "code",
   "execution_count": null,
   "metadata": {},
   "outputs": [],
   "source": []
  }
 ],
 "metadata": {
  "colab": {
   "provenance": []
  },
  "kernelspec": {
   "display_name": "Python 3 (ipykernel)",
   "language": "python",
   "name": "python3"
  },
  "language_info": {
   "codemirror_mode": {
    "name": "ipython",
    "version": 3
   },
   "file_extension": ".py",
   "mimetype": "text/x-python",
   "name": "python",
   "nbconvert_exporter": "python",
   "pygments_lexer": "ipython3",
   "version": "3.13.7"
  }
 },
 "nbformat": 4,
 "nbformat_minor": 4
}
