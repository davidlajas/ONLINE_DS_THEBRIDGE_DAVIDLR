{
 "cells": [
  {
   "cell_type": "markdown",
   "metadata": {
    "id": "9l3HMgm6RWxF"
   },
   "source": [
    "![TheBridge_logo_RGB_color.jpg](attachment:TheBridge_logo_RGB_color.jpg)"
   ]
  },
  {
   "cell_type": "markdown",
   "metadata": {
    "id": "RGg9iWpoRWxG"
   },
   "source": [
    "![ejercicios.png](attachment:ejercicios.png)"
   ]
  },
  {
   "cell_type": "markdown",
   "metadata": {
    "id": "AyOlWS2nRWxH"
   },
   "source": [
    "## PRACTICA OBLIGATORIA: COLECCIONES Y FUNCIONES"
   ]
  },
  {
   "cell_type": "markdown",
   "metadata": {
    "id": "6UOgb0KVRWxH"
   },
   "source": [
    "* La práctica obligatoria de esta unidad consiste varios ejercicios de programación libre a completar sobre Colecciones y Funciones. Descarga este notebook en tu ordenador y trabaja en local.  \n",
    "* Recuerda que debes subirla a tu repositorio personal antes de la sesión en vivo para que puntúe adecuadamente y puedas participar en dicha sesión.  \n",
    "* Recuerda también que no es necesario que esté perfecta, sólo es necesario que se vea el esfuerzo.\n",
    "* Esta práctica se resolverá en la sesión en vivo correspondiente y la solución se publicará en el repo del curso."
   ]
  },
  {
   "cell_type": "markdown",
   "metadata": {
    "id": "j3yu-tEjRWxH"
   },
   "source": [
    "### Contenidos"
   ]
  },
  {
   "cell_type": "markdown",
   "metadata": {
    "id": "kO-fLH39RWxH"
   },
   "source": [
    "## Ejercicio 1\n",
    "Eleva todos los elementos de la lista al cuadrado\n",
    "> ```ejer_2 = [1,2,3,4,5]```"
   ]
  },
  {
   "cell_type": "code",
   "execution_count": 6,
   "metadata": {
    "id": "ks5l3yi7RWxH"
   },
   "outputs": [
    {
     "name": "stdout",
     "output_type": "stream",
     "text": [
      "1\n",
      "4\n",
      "9\n",
      "16\n",
      "25\n"
     ]
    }
   ],
   "source": [
    "ejer_2 = [1,2,3,4,5]\n",
    "\n",
    "for num in ejer_2:\n",
    "    print(num**2)"
   ]
  },
  {
   "cell_type": "markdown",
   "metadata": {
    "id": "kI_Xr5oFRWxI"
   },
   "source": [
    "## Ejercicio 2\n",
    "Haz un programa que detecte todos los duplicados de un elemento en una lista:\n",
    "* Utiliza una variable duplicado para asignarle el valor del elemento del que queremos encontrar todos sus duplicados.\n",
    "* El programa debe devolver todos los índices de los elementos duplicados.\n",
    "* Aplícalo para encontrar los duplicados de \"un\", \"es\" y \"binario\" de:  \n",
    "\n",
    ">```ejer_3 = [\"Un\", \"árbol\", \"binario\", \"es\", \"una\", \"estructura\", \"de\", \"un\", \"tipo\", \"particular\", \"a\", \"veces\", \"no\", \"es\", \"ni\", \"binario\"]```\n"
   ]
  },
  {
   "cell_type": "code",
   "execution_count": 82,
   "metadata": {},
   "outputs": [
    {
     "name": "stdout",
     "output_type": "stream",
     "text": [
      "un se repite 2 veces y su índice es 0\n",
      "binario se repite 2 veces y su índice es 2\n",
      "es se repite 2 veces y su índice es 3\n",
      "un se repite 2 veces y su índice es 0\n",
      "es se repite 2 veces y su índice es 3\n",
      "binario se repite 2 veces y su índice es 2\n"
     ]
    }
   ],
   "source": [
    "ejer_3 = [\"Un\", \"árbol\", \"binario\", \"es\", \"una\", \"estructura\", \"de\", \"un\", \"tipo\", \"particular\", \"a\", \"veces\", \"no\", \"es\", \"ni\", \"binario\"]\n",
    "ejer_3[0]=\"un\"\n",
    "#encontrar los duplicados\n",
    "for nombre in ejer_3:\n",
    "    ejer_3.count(nombre)\n",
    "    if ejer_3.count(nombre) > 1:\n",
    "            print(nombre, \"se repite\", ejer_3.count(nombre) , \"veces y su índice es\",ejer_3.index(nombre))"
   ]
  },
  {
   "cell_type": "code",
   "execution_count": null,
   "metadata": {},
   "outputs": [],
   "source": []
  },
  {
   "cell_type": "markdown",
   "metadata": {
    "id": "3WrBd5QaRWxI"
   },
   "source": [
    "## Ejercicio 3\n",
    "1. ¿Cuántas veces se repite el 3 en la siguiente tupla?\n",
    "2. Crea una tupla nueva con los elementos desde la posicion 5 a la 10.\n",
    "3. ¿Cuántos elementos tiene la tupla `ejer_3`?\n",
    "> ```ejer_9 = (3, 20, 3, 47, 19, 3, 29, 45, 67, 78, 90, 3, 3, 5, 2, 4, 7, 9, 4, 2, 4, 3, 3, 4, 6, 7)```"
   ]
  },
  {
   "cell_type": "code",
   "execution_count": 137,
   "metadata": {
    "id": "bkv_R5LYRWxI"
   },
   "outputs": [
    {
     "name": "stdout",
     "output_type": "stream",
     "text": [
      "El 3 se repite 7 veces\n",
      "(3, 29, 45, 67, 78, 90)\n",
      "La tupla ejer_9 tiene 26 elementos\n",
      "La lista ejer_3 tiene 16 elementos\n"
     ]
    }
   ],
   "source": [
    "ejer_9 = (3, 20, 3, 47, 19, 3, 29, 45, 67, 78, 90, 3, 3, 5, 2, 4, 7, 9, 4, 2, 4, 3, 3, 4, 6, 7)\n",
    "print(\"El 3 se repite\", ejer_9.count(3), \"veces\")\n",
    "#creamos una tupla con los elementos que queremos\n",
    "tupla_corta = ejer_9[5:11]\n",
    "print(tupla_corta)\n",
    "#ejer_3 no es una tupla. Calculamos ejer_3 y ejer_9 por si hay un error en el enunciado.\n",
    "print(\"La tupla ejer_9 tiene\" , len(ejer_9), \"elementos\")\n",
    "print(\"La lista ejer_3 tiene\" , len(ejer_3), \"elementos\")"
   ]
  },
  {
   "cell_type": "markdown",
   "metadata": {
    "id": "6g8Y54AeRWxI"
   },
   "source": [
    "## Ejercicio 4\n",
    "Comprueba si el numero 60 esta en la tupla del ejercicio 3"
   ]
  },
  {
   "cell_type": "code",
   "execution_count": 218,
   "metadata": {
    "id": "F8VTEZonRWxI"
   },
   "outputs": [
    {
     "ename": "ValueError",
     "evalue": "tuple.index(x): x not in tuple",
     "output_type": "error",
     "traceback": [
      "\u001b[31m---------------------------------------------------------------------------\u001b[39m",
      "\u001b[31mValueError\u001b[39m                                Traceback (most recent call last)",
      "\u001b[36mCell\u001b[39m\u001b[36m \u001b[39m\u001b[32mIn[218]\u001b[39m\u001b[32m, line 1\u001b[39m\n\u001b[32m----> \u001b[39m\u001b[32m1\u001b[39m \u001b[43mejer_9\u001b[49m\u001b[43m.\u001b[49m\u001b[43mindex\u001b[49m\u001b[43m(\u001b[49m\u001b[32;43m60\u001b[39;49m\u001b[43m)\u001b[49m\n",
      "\u001b[31mValueError\u001b[39m: tuple.index(x): x not in tuple"
     ]
    }
   ],
   "source": [
    "ejer_9.index(60)\n",
    "\n",
    "    \n"
   ]
  },
  {
   "cell_type": "markdown",
   "metadata": {
    "id": "y0fg-ZA6RWxI"
   },
   "source": [
    "## Ejercicio 5\n",
    "1. Convierte la tupla del ejercicio 3 en una lista\n",
    "2. Convierte la tupla del ejercicio 3 en un set\n",
    "3. Convierte la tupla del ejercicio 3 en un diccionario. Usa también los indices"
   ]
  },
  {
   "cell_type": "code",
   "execution_count": 153,
   "metadata": {
    "id": "_O5hXr01RWxI"
   },
   "outputs": [
    {
     "name": "stdout",
     "output_type": "stream",
     "text": [
      "[3, 20, 3, 47, 19, 3, 29, 45, 67, 78, 90, 3, 3, 5, 2, 4, 7, 9, 4, 2, 4, 3, 3, 4, 6, 7]\n",
      "{2, 3, 67, 5, 4, 7, 6, 9, 45, 78, 47, 19, 20, 90, 29}\n"
     ]
    },
    {
     "ename": "IndexError",
     "evalue": "list index out of range",
     "output_type": "error",
     "traceback": [
      "\u001b[31m---------------------------------------------------------------------------\u001b[39m",
      "\u001b[31mIndexError\u001b[39m                                Traceback (most recent call last)",
      "\u001b[36mCell\u001b[39m\u001b[36m \u001b[39m\u001b[32mIn[153]\u001b[39m\u001b[32m, line 12\u001b[39m\n\u001b[32m     10\u001b[39m diccionario = {}\n\u001b[32m     11\u001b[39m \u001b[38;5;28;01mfor\u001b[39;00m i \u001b[38;5;129;01min\u001b[39;00m set_lista:\n\u001b[32m---> \u001b[39m\u001b[32m12\u001b[39m     diccionario[i] =\u001b[43mset_lista\u001b[49m\u001b[43m[\u001b[49m\u001b[43mi\u001b[49m\u001b[43m]\u001b[49m\n",
      "\u001b[31mIndexError\u001b[39m: list index out of range"
     ]
    }
   ],
   "source": [
    "#tupla a lista\n",
    "lista_nueva = list(ejer_9)\n",
    "print(lista_nueva)\n",
    "#tupla a set\n",
    "set_nuevo = set(ejer_9)\n",
    "#tupla a diccionario\n",
    "print(set_nuevo)\n",
    "#pasamos el set a lista\n",
    "set_lista = list(set_nuevo)\n",
    "diccionario = {}\n",
    "for i in set_lista:\n",
    "    diccionario[i] = set_lista[i]\n",
    "    "
   ]
  },
  {
   "cell_type": "markdown",
   "metadata": {
    "id": "eOdWWbxvRWxJ"
   },
   "source": [
    "## Ejercicio 6\n",
    "Multiplica todos los valores del diccionario\n",
    "> ```ejer_6 = {1: 11, 2: 22, 3: 33, 4: 44, 5: 55}```"
   ]
  },
  {
   "cell_type": "code",
   "execution_count": 157,
   "metadata": {
    "id": "KcuByovKRWxJ"
   },
   "outputs": [
    {
     "name": "stdout",
     "output_type": "stream",
     "text": [
      "19326120\n"
     ]
    }
   ],
   "source": [
    "ejer_6 = {1: 11, 2: 22, 3: 33, 4: 44, 5: 55}\n",
    "\n",
    "multipl_ejer6 = ejer_6[1] * ejer_6[2] * ejer_6[3] * ejer_6[4] * ejer_6[5]\n",
    "print(multipl_ejer6)"
   ]
  },
  {
   "cell_type": "code",
   "execution_count": null,
   "metadata": {},
   "outputs": [],
   "source": []
  },
  {
   "cell_type": "markdown",
   "metadata": {
    "id": "W7TUSaKRRWxJ"
   },
   "source": [
    "## Ejercicio 7\n",
    "\n",
    "1. Crea un diccionario que describa un libro, con los siguientes campos o claves: \"titulo\",\"autor\",\"idioma original\",\"año de publicación\".\n",
    "2. Crea un a lista, llamada librería.\n",
    "3. Añade cuatro libros a tu elección a la librería."
   ]
  },
  {
   "cell_type": "code",
   "execution_count": 168,
   "metadata": {
    "id": "d-IMRvxRRWxJ",
    "vscode": {
     "languageId": "plaintext"
    }
   },
   "outputs": [
    {
     "name": "stdout",
     "output_type": "stream",
     "text": [
      "{'titulo': 'Harry Potter', 'autor': 'JK Rowling', 'idioma original': 'inglés', 'año de publicación': '1997'}\n",
      "['pinocho', 'el principito', 'el quijote', 'manolito gafotas']\n"
     ]
    }
   ],
   "source": [
    "#diccionario libro\n",
    "harry_potter = {\n",
    "    \"titulo\" : \"Harry Potter\",\n",
    "    \"autor\" : \"JK Rowling\",\n",
    "    \"idioma original\" : \"inglés\",\n",
    "    \"año de publicación\" : \"1997\",\n",
    "\n",
    "}\n",
    "print(harry_potter)\n",
    "\n",
    "#lista librería\n",
    "libreria = []\n",
    "\n",
    "#añadir 4 libros\n",
    "libreria.append(\"pinocho\")\n",
    "libreria.append(\"el principito\")\n",
    "libreria.append(\"el quijote\")\n",
    "libreria.append(\"manolito gafotas\")\n",
    "print(libreria)"
   ]
  },
  {
   "cell_type": "markdown",
   "metadata": {
    "id": "glMoedjYRWxJ"
   },
   "source": [
    "## Ejercicio 8\n",
    "Modifica los valores del idioma de todos los libros del ejercicio anterior para que sea \"esperanto\"\n"
   ]
  },
  {
   "cell_type": "code",
   "execution_count": 172,
   "metadata": {
    "id": "veNdC-uwRWxJ"
   },
   "outputs": [
    {
     "name": "stdout",
     "output_type": "stream",
     "text": [
      "{'titulo': 'Harry Potter', 'autor': 'JK Rowling', 'idioma original': 'esperanto', 'año de publicación': '1997'}\n"
     ]
    }
   ],
   "source": [
    "harry_potter.update({\"idioma original\" : \"esperanto\"})\n",
    "print(harry_potter)"
   ]
  },
  {
   "cell_type": "markdown",
   "metadata": {
    "id": "DRCJG04KRWxJ"
   },
   "source": [
    "## Ejercicio 9\n",
    "1. Escribe un programa que dada una variable titulo busque los libros que hay en la librería con ese título. Si no se encuentra debe devolver el mensaje `Ese no lo tengo, ¿mola?`\n",
    "2. Pruena que el programa con uno de tus libros y con otro que no contenga tu librería."
   ]
  },
  {
   "cell_type": "code",
   "execution_count": 208,
   "metadata": {
    "id": "eWHdJi9BRWxJ"
   },
   "outputs": [
    {
     "name": "stdin",
     "output_type": "stream",
     "text": [
      "¿Qué libro estás buscando? el principito\n"
     ]
    },
    {
     "name": "stdout",
     "output_type": "stream",
     "text": [
      "el principito\n",
      "Sí, lo tenemos\n"
     ]
    }
   ],
   "source": [
    "titulo = input(\"¿Qué libro estás buscando?\")\n",
    "libro_si = \"Sí, lo tenemos\"\n",
    "libro_no = \"Ese no lo tengo, ¿mola?\"\n",
    "\n",
    "#teniéndolo\n",
    "print(titulo)\n",
    "try:\n",
    "    if libreria.index(titulo) == True:\n",
    "        print(libro_si)      \n",
    "except:\n",
    "    print(libro_no)\n"
   ]
  },
  {
   "cell_type": "code",
   "execution_count": 212,
   "metadata": {},
   "outputs": [
    {
     "name": "stdin",
     "output_type": "stream",
     "text": [
      "¿Qué libro estás buscando? caperucita roja\n"
     ]
    },
    {
     "name": "stdout",
     "output_type": "stream",
     "text": [
      "caperucita roja\n",
      "Ese no lo tengo, ¿mola?\n"
     ]
    }
   ],
   "source": [
    "#no teniéndolo\n",
    "titulo_1 = input(\"¿Qué libro estás buscando?\")\n",
    "print(titulo_1)\n",
    "try:\n",
    "    if libreria.index(titulo_1) == True:\n",
    "        print(libro_si)      \n",
    "except:\n",
    "    print(libro_no)"
   ]
  },
  {
   "cell_type": "markdown",
   "metadata": {
    "id": "17YOpYuFRWxJ"
   },
   "source": [
    "## Ejercicio 10\n",
    "Convierte el programa del ejercicio 2 en una función al que se le pase el valor a buscar como un argumento posicional"
   ]
  },
  {
   "cell_type": "code",
   "execution_count": null,
   "metadata": {},
   "outputs": [],
   "source": [
    "ejer_3 = [\"Un\", \"árbol\", \"binario\", \"es\", \"una\", \"estructura\", \"de\", \"un\", \"tipo\", \"particular\", \"a\", \"veces\", \"no\", \"es\", \"ni\", \"binario\"]\n",
    "ejer_3[0]=\"un\"\n",
    "#encontrar los duplicados\n",
    "for nombre in ejer_3:\n",
    "    ejer_3.count(nombre)\n",
    "    if ejer_3.count(nombre) > 1:\n",
    "            print(nombre, \"se repite\", ejer_3.count(nombre) , \"veces y su índice es\",ejer_3.index(nombre))"
   ]
  },
  {
   "cell_type": "code",
   "execution_count": 236,
   "metadata": {},
   "outputs": [
    {
     "data": {
      "text/plain": [
       "1"
      ]
     },
     "execution_count": 236,
     "metadata": {},
     "output_type": "execute_result"
    }
   ],
   "source": [
    "ejer_3 = [\"Un\", \"árbol\", \"binario\", \"es\", \"una\", \"estructura\", \"de\", \"un\", \"tipo\", \"particular\", \"a\", \"veces\", \"no\", \"es\", \"ni\", \"binario\"]\n",
    "def buscar_palabra(valor):\n",
    "    resultado = ejer_3.index(valor)\n",
    "    return resultado\n",
    "\n",
    "buscar_palabra(\"árbol\")"
   ]
  },
  {
   "cell_type": "markdown",
   "metadata": {
    "id": "xZ-sWJxPRWxJ"
   },
   "source": [
    "## Ejercicio 11\n",
    "Convierte el programa del ejercicio 9 en una función al que se le pasen como argumentos la librería, posicional, y el título, argumento keyword con valor \"ninguno\", por defecto."
   ]
  },
  {
   "cell_type": "code",
   "execution_count": 254,
   "metadata": {
    "id": "4-JrsMdNRWxK"
   },
   "outputs": [
    {
     "name": "stdin",
     "output_type": "stream",
     "text": [
      "¿Qué libro estás buscando? drgwerg\n"
     ]
    },
    {
     "name": "stdout",
     "output_type": "stream",
     "text": [
      "drgwerg\n",
      "Ese no lo tengo, ¿mola?\n"
     ]
    }
   ],
   "source": [
    "titulo = input(\"¿Qué libro estás buscando?\")\n",
    "libro_si = \"Sí, lo tenemos\"\n",
    "libro_no = \"Ese no lo tengo, ¿mola?\"\n",
    "\n",
    "print(titulo)\n",
    "\n",
    "def buscar_libro(libreria,titulo = \"ninguno\"):\n",
    "    try:\n",
    "        libreria.index(titulo) == True\n",
    "        print(libro_si)      \n",
    "    except:\n",
    "        print(libro_no)\n",
    "\n"
   ]
  },
  {
   "cell_type": "code",
   "execution_count": 256,
   "metadata": {},
   "outputs": [
    {
     "name": "stdout",
     "output_type": "stream",
     "text": [
      "Sí, lo tenemos\n"
     ]
    }
   ],
   "source": [
    "buscar_libro(libreria, \"pinocho\")"
   ]
  },
  {
   "cell_type": "markdown",
   "metadata": {
    "id": "FtJir95QRWxK"
   },
   "source": [
    "## Ejercicio 12\n",
    "Solicitar al usuario que ingrese su dirección email. Imprimir un mensaje indicando si la dirección es válida o no, valiéndose de una función para decidirlo. Una dirección se considerará válida si contiene el símbolo \"@\"."
   ]
  },
  {
   "cell_type": "code",
   "execution_count": 293,
   "metadata": {
    "id": "sk852IZ8RWxK"
   },
   "outputs": [
    {
     "name": "stdin",
     "output_type": "stream",
     "text": [
      "Indica tu correo electrónico sfwebf@gmail.com\n"
     ]
    },
    {
     "name": "stdout",
     "output_type": "stream",
     "text": [
      "La dirección de correo electrónico es correcta\n"
     ]
    }
   ],
   "source": [
    "email = input(\"Indica tu correo electrónico\")\n",
    "email_si = \"La dirección de correo electrónico es correcta\"\n",
    "email_no = \"La dirección de correo electrónico es incorrecta\"\n",
    "\n",
    "def email_validacion(email):\n",
    "    if \"@\" in email:\n",
    "        print(email_si)\n",
    "    else:\n",
    "        print(email_no)\n",
    "\n",
    "email_validacion(email)"
   ]
  },
  {
   "cell_type": "markdown",
   "metadata": {
    "id": "Kw1MWBwBRWxK"
   },
   "source": [
    "## Ejercicio 13\n",
    "Escribe una función que compruebe si un DNI es válido, devolviendo `True` en caso afirmativo.  \n",
    "En primer lugar, el DNI debe tener entre 7 y 8 dígitos numéricos.  \n",
    "Para saber si la letra del DNI es correcta puedes utilizar el siguiente fragmento de código:\n",
    ">```Python\n",
    ">DNI= 55555555\n",
    ">palabra='TRWAGMYFPDXBNJZSQVHLCKE'\n",
    ">print('La letra del DNI es: ', palabra[DNI%23])\n",
    ">````\n"
   ]
  },
  {
   "cell_type": "code",
   "execution_count": 322,
   "metadata": {
    "id": "F5Z9rSHqRWxK"
   },
   "outputs": [
    {
     "name": "stdin",
     "output_type": "stream",
     "text": [
      "Indica DNI 11764309Q\n"
     ]
    },
    {
     "name": "stdout",
     "output_type": "stream",
     "text": [
      "11764309\n",
      "Q\n",
      "True\n",
      "Q\n",
      "El DNI es correcto\n"
     ]
    }
   ],
   "source": [
    "DNI = input(\"Indica DNI\")\n",
    "DNI_numeros = DNI[:-1]\n",
    "DNI_letra = DNI[-1:]\n",
    "palabra=\"TRWAGMYFPDXBNJZSQVHLCKE\"\n",
    "DNI_numeros_int = int(DNI_numeros)\n",
    "\n",
    "print(DNI_numeros)\n",
    "print(DNI_letra)\n",
    "\n",
    "DNI_comprob_num = len(DNI_numeros) == 8\n",
    "\n",
    "print(DNI_comprob_num)\n",
    "\n",
    "DNI_comprob_letra = palabra[DNI_numeros_int%23]\n",
    "print(DNI_comprob_letra)\n",
    "\n",
    "if DNI_comprob_num == True and DNI_comprob_letra == DNI_letra :\n",
    "    print(\"El DNI es correcto\")\n",
    "else: print(\"El DNI es incorrecto\")"
   ]
  },
  {
   "cell_type": "code",
   "execution_count": null,
   "metadata": {},
   "outputs": [],
   "source": []
  }
 ],
 "metadata": {
  "colab": {
   "provenance": []
  },
  "kernelspec": {
   "display_name": "Python 3 (ipykernel)",
   "language": "python",
   "name": "python3"
  },
  "language_info": {
   "codemirror_mode": {
    "name": "ipython",
    "version": 3
   },
   "file_extension": ".py",
   "mimetype": "text/x-python",
   "name": "python",
   "nbconvert_exporter": "python",
   "pygments_lexer": "ipython3",
   "version": "3.13.7"
  }
 },
 "nbformat": 4,
 "nbformat_minor": 4
}
