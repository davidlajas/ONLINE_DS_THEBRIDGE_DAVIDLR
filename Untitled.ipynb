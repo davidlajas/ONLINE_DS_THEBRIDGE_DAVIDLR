{
 "cells": [
  {
   "cell_type": "code",
   "execution_count": 18,
   "id": "a3fe2c0c-6b8e-4ca4-bebe-1b5ee2f265a7",
   "metadata": {},
   "outputs": [],
   "source": [
    "def even_or_odd(number):\n",
    "    if abs(number)%2 == 1:\n",
    "        print(\"odd\")\n",
    "    else: print(\"even\")\n",
    "\n"
   ]
  },
  {
   "cell_type": "code",
   "execution_count": 14,
   "id": "d8e4a6e5-80dd-4959-af46-2f77f46a2226",
   "metadata": {},
   "outputs": [
    {
     "data": {
      "text/plain": [
       "1"
      ]
     },
     "execution_count": 14,
     "metadata": {},
     "output_type": "execute_result"
    }
   ],
   "source": [
    "1%2"
   ]
  },
  {
   "cell_type": "code",
   "execution_count": 34,
   "id": "cf9f5251-c5df-4c56-81eb-5c52e7fda737",
   "metadata": {},
   "outputs": [
    {
     "name": "stdout",
     "output_type": "stream",
     "text": [
      "7\n"
     ]
    }
   ],
   "source": [
    "def get_count(frase):\n",
    "    return frase.count(\"a\") + frase.count(\"e\") + frase.count(\"i\") + frase.count(\"o\") + frase.count(\"u\")\n",
    "\n",
    "print(get_count(\"hola me llamo david\"))"
   ]
  },
  {
   "cell_type": "code",
   "execution_count": null,
   "id": "0a5693ff-0e20-4028-8719-9d099ea65685",
   "metadata": {},
   "outputs": [],
   "source": []
  }
 ],
 "metadata": {
  "kernelspec": {
   "display_name": "Python 3 (ipykernel)",
   "language": "python",
   "name": "python3"
  },
  "language_info": {
   "codemirror_mode": {
    "name": "ipython",
    "version": 3
   },
   "file_extension": ".py",
   "mimetype": "text/x-python",
   "name": "python",
   "nbconvert_exporter": "python",
   "pygments_lexer": "ipython3",
   "version": "3.13.7"
  }
 },
 "nbformat": 4,
 "nbformat_minor": 5
}
