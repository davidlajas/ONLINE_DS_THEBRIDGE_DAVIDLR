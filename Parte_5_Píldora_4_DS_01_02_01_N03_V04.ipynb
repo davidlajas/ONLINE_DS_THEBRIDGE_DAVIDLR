{
 "cells": [
  {
   "cell_type": "markdown",
   "metadata": {
    "id": "Aj_tk_YNxoe-"
   },
   "source": [
    "![TheBridge_Python_v0.png](attachment:TheBridge_Python_v0.png)"
   ]
  },
  {
   "cell_type": "markdown",
   "metadata": {
    "id": "ddy3K46AxofD"
   },
   "source": [
    "## Colecciones Python: Diccionarios\n"
   ]
  },
  {
   "cell_type": "markdown",
   "metadata": {
    "id": "GeS2mA4BxofF"
   },
   "source": [
    "### Contenidos\n"
   ]
  },
  {
   "cell_type": "markdown",
   "metadata": {
    "id": "XrenzsM2xofG"
   },
   "source": [
    "* [Introducción](#Introducción)\n",
    "\n",
    "* [Acceso, modificación, añadir, eliminar](#Acceso,-modificación,-añadir,-eliminar)\n",
    "\n",
    "* [Iterar](#Iterar)\n",
    "\n"
   ]
  },
  {
   "cell_type": "markdown",
   "metadata": {
    "id": "j08bbDQLxofH"
   },
   "source": [
    "### Introducción\n",
    "[al indice](#Contenidos)  \n",
    "\n",
    "En este tipo de colecciones no solo podemos agrupar datos, sino que tenemos la posibilidad de establecer una relación entre los mismos, con la forma **clave: valor**.\n",
    "\n",
    "La sintaxis  es mediante llaves `{}`\n",
    "\n",
    "> nombre_diccionario = {clave1: valor1, clave2: valor2, clave3: valor3}\n",
    "\n",
    "Si veíamos que las listas son elementos mutables y y ordenadas, y las tuplas inmutables y ordenadas, los diccionarios son:\n",
    "\n",
    "* **Mutables**: podemos modificar sus elementos\n",
    "* **Desordenado**: la potencia de acceso de los diccionarios es su formato clave-valor, no su orden. Aun así, el dicionario conserva el orden de los elemento según los vamos insertando.\n",
    "\n",
    "Vamos a declarar un diccionario en el que definiremos elementos de un coche"
   ]
  },
  {
   "cell_type": "code",
   "execution_count": 4,
   "metadata": {
    "id": "gwXyP_-txofI"
   },
   "outputs": [
    {
     "data": {
      "text/plain": [
       "{'color': 'rojo',\n",
       " 'marca': 'tesla',\n",
       " 'modelo': 'cybertruck',\n",
       " 'peso': 3500,\n",
       " 'Cambio automático': True}"
      ]
     },
     "execution_count": 4,
     "metadata": {},
     "output_type": "execute_result"
    }
   ],
   "source": [
    "coche_dict = {\n",
    "    \"color\" : \"rojo\",\n",
    "    \"marca\" : \"tesla\",\n",
    "    \"modelo\" : \"cybertruck\",\n",
    "    \"peso\" : 3500,\n",
    "    \"Cambio automático\" : True,\n",
    "\n",
    "}\n",
    "coche_dict"
   ]
  },
  {
   "cell_type": "markdown",
   "metadata": {
    "id": "Utfmzi7VxofJ"
   },
   "source": [
    "Se puede almacenar todo tipo de datos: numero, cadena, booleano, listas, tuplas, diccionarios...\n",
    "\n",
    "Cuando declaremos el diccionario, lo podemos hacer en una sola linea `coche = {\"color\"=\"Gris\", \"marca\"...}`, aunque se recomienda por sencillez a la hora de leer el código, realizar esta acción en varias líneas. Si escribimos el primer elemento y presionamos enter, Jupyter introduce automáticamente la tabulación."
   ]
  },
  {
   "cell_type": "markdown",
   "metadata": {
    "id": "bWqWXrq5xofJ"
   },
   "source": [
    "### Acceso, modificación, añadir, eliminar\n",
    "[al indice](#Contenidos)  \n",
    "\n"
   ]
  },
  {
   "cell_type": "code",
   "execution_count": 18,
   "metadata": {
    "id": "7dSS_3gKxofK"
   },
   "outputs": [
    {
     "name": "stdout",
     "output_type": "stream",
     "text": [
      "['rojo', 'gris']\n",
      "3500\n",
      "{'color': ['rojo', 'gris'], 'marca': 'tesla', 'modelo': 'cybertruck', 'peso': 3500, 'Cambio automático': True}\n",
      "{'color': ['rojo', 'gris'], 'marca': 'tesla', 'modelo': 'cybertruck', 'peso': 3500, 'Cambio automático': True, 'puertas': 6}\n",
      "{'color': ['rojo', 'gris'], 'marca': 'tesla', 'modelo': 'cybertruck', 'peso': 3500, 'Cambio automático': True}\n",
      "dict_keys(['color', 'marca', 'modelo', 'peso', 'Cambio automático'])\n",
      "dict_values([['rojo', 'gris'], 'tesla', 'cybertruck', 3500, True])\n"
     ]
    }
   ],
   "source": [
    "#acceso\n",
    "print(coche_dict[\"color\"])\n",
    "print(coche_dict[\"peso\"])\n",
    "\n",
    "#print(coche_dict[\"puertas\"])\n",
    "coche_dict[\"color\"] = [\"rojo\", \"gris\"]\n",
    "print(coche_dict)\n",
    "\n",
    "#añadir elemento\n",
    "coche_dict[\"puertas\"] = 6\n",
    "print(coche_dict)\n",
    "\n",
    "#eliminar elemento\n",
    "del coche_dict[\"puertas\"]\n",
    "print(coche_dict)\n",
    "#conocer las claves del diccionario\n",
    "print(coche_dict.keys())\n",
    "\n",
    "#conocer los valores del diccionario\n",
    "print(coche_dict.values())\n"
   ]
  },
  {
   "cell_type": "markdown",
   "metadata": {
    "id": "mT1A2OO0xofK"
   },
   "source": [
    "Para más detalle de los métodos de los diccionario puedes [consultar la documentación](https://www.w3schools.com/python/python_ref_dictionary.asp)"
   ]
  },
  {
   "cell_type": "code",
   "execution_count": 20,
   "metadata": {
    "id": "oqvC1DfIxofK"
   },
   "outputs": [
    {
     "name": "stdout",
     "output_type": "stream",
     "text": [
      "{}\n",
      "{'direccion': 'calle victoria'}\n"
     ]
    }
   ],
   "source": [
    "# Podemos empezar tambien mediante un diccionario vacío\n",
    "tienda = {}\n",
    "print(tienda)\n",
    "tienda[\"direccion\"] = \"calle victoria\"\n",
    "print(tienda)"
   ]
  },
  {
   "cell_type": "markdown",
   "metadata": {
    "id": "1lIgGcp3xofM"
   },
   "source": [
    "<table align=\"left\">\n",
    " <tr>\n",
    "     <td style=\"text-align:left\">\n",
    "         <h3>ERRORES en diccionarios</h3>\n",
    "         \n",
    " </td></tr>\n",
    "</table>"
   ]
  },
  {
   "cell_type": "markdown",
   "metadata": {
    "id": "AtVgXHdIxofM"
   },
   "source": [
    "Si hay una clave que no existe en el diccionario, saltará un error.\n",
    "\n",
    "En este caso, el error es bastante intuitivo: `KeyError`, no encuentra la clave"
   ]
  },
  {
   "cell_type": "code",
   "execution_count": null,
   "metadata": {
    "id": "SA88dSaPxofM"
   },
   "outputs": [],
   "source": []
  },
  {
   "cell_type": "markdown",
   "metadata": {
    "id": "zilWHpMQxofM"
   },
   "source": [
    "**¿Cómo solventar esto?** Sirmpre tienes la opción de usar el bloque `try/except`, pero en este caso, los diccionarios tienen una solución más elegante: `mi_diccionario.get(clave, valor si no existe)`"
   ]
  },
  {
   "cell_type": "code",
   "execution_count": 24,
   "metadata": {
    "id": "AFYRombDxofN"
   },
   "outputs": [
    {
     "name": "stdout",
     "output_type": "stream",
     "text": [
      "4\n",
      "tesla\n"
     ]
    }
   ],
   "source": [
    "numero_de_puertas = coche_dict.get(\"puertas\",4)\n",
    "print(numero_de_puertas)\n",
    "marca = coche_dict.get(\"marca\",\"desconocida\")\n",
    "print(marca)"
   ]
  },
  {
   "cell_type": "markdown",
   "metadata": {
    "id": "Y0ASNB0lxofN"
   },
   "source": [
    "### Iterar\n",
    "[al indice](#Contenidos)  \n",
    "\n",
    "Que el diccionario no esté ordenado, no quiere decir que no podamos iterar sus elementos, ya que también es un **interable**, como los son las listas o las tuplas."
   ]
  },
  {
   "cell_type": "code",
   "execution_count": 26,
   "metadata": {
    "id": "eXYcZUm1xofN"
   },
   "outputs": [
    {
     "name": "stdout",
     "output_type": "stream",
     "text": [
      "color\n",
      "['rojo', 'gris']\n",
      "marca\n",
      "tesla\n",
      "modelo\n",
      "cybertruck\n",
      "peso\n",
      "3500\n",
      "Cambio automático\n",
      "True\n"
     ]
    }
   ],
   "source": [
    "for i in coche_dict:\n",
    "    print(i)\n",
    "    print(coche_dict[i])"
   ]
  },
  {
   "cell_type": "code",
   "execution_count": 29,
   "metadata": {
    "id": "HXtnivHpxofN"
   },
   "outputs": [
    {
     "name": "stdout",
     "output_type": "stream",
     "text": [
      "color : ['rojo', 'gris']\n",
      "marca : tesla\n",
      "modelo : cybertruck\n",
      "peso : 3500\n",
      "Cambio automático : True\n"
     ]
    }
   ],
   "source": [
    "for i in coche_dict:\n",
    "    print(i,\":\" ,coche_dict[i])"
   ]
  },
  {
   "cell_type": "code",
   "execution_count": 30,
   "metadata": {},
   "outputs": [
    {
     "data": {
      "text/plain": [
       "dict_items([('color', ['rojo', 'gris']), ('marca', 'tesla'), ('modelo', 'cybertruck'), ('peso', 3500), ('Cambio automático', True)])"
      ]
     },
     "execution_count": 30,
     "metadata": {},
     "output_type": "execute_result"
    }
   ],
   "source": [
    "coche_dict.items()"
   ]
  },
  {
   "cell_type": "code",
   "execution_count": 31,
   "metadata": {},
   "outputs": [
    {
     "name": "stdout",
     "output_type": "stream",
     "text": [
      "color : ['rojo', 'gris']\n",
      "marca : tesla\n",
      "modelo : cybertruck\n",
      "peso : 3500\n",
      "Cambio automático : True\n"
     ]
    }
   ],
   "source": [
    "for clave,valor in coche_dict.items():\n",
    "    print(clave,\":\", valor)"
   ]
  },
  {
   "cell_type": "code",
   "execution_count": null,
   "metadata": {},
   "outputs": [],
   "source": []
  }
 ],
 "metadata": {
  "colab": {
   "provenance": []
  },
  "kernelspec": {
   "display_name": "Python 3 (ipykernel)",
   "language": "python",
   "name": "python3"
  },
  "language_info": {
   "codemirror_mode": {
    "name": "ipython",
    "version": 3
   },
   "file_extension": ".py",
   "mimetype": "text/x-python",
   "name": "python",
   "nbconvert_exporter": "python",
   "pygments_lexer": "ipython3",
   "version": "3.13.7"
  }
 },
 "nbformat": 4,
 "nbformat_minor": 4
}
